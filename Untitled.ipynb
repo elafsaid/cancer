{
 "cells": [
  {
   "cell_type": "code",
   "execution_count": 1,
   "id": "317612f6-0979-4421-a292-9a8aa62c1a47",
   "metadata": {},
   "outputs": [
    {
     "name": "stdout",
     "output_type": "stream",
     "text": [
      "elaf\n"
     ]
    }
   ],
   "source": [
    "print ('elaf')"
   ]
  },
  {
   "cell_type": "code",
   "execution_count": 15,
   "id": "5c5c3b0e-61b4-4c94-9bda-edda8db82695",
   "metadata": {},
   "outputs": [],
   "source": [
    "x=1+2"
   ]
  },
  {
   "cell_type": "code",
   "execution_count": 16,
   "id": "d8a36a93-62d8-4b88-82f9-099aba330f36",
   "metadata": {},
   "outputs": [
    {
     "name": "stdout",
     "output_type": "stream",
     "text": [
      "3\n"
     ]
    }
   ],
   "source": [
    "print (x)"
   ]
  },
  {
   "cell_type": "code",
   "execution_count": 17,
   "id": "e0f75072-8aa1-406a-b602-442ae03e61c6",
   "metadata": {},
   "outputs": [
    {
     "data": {
      "text/plain": [
       "True"
      ]
     },
     "execution_count": 17,
     "metadata": {},
     "output_type": "execute_result"
    }
   ],
   "source": [
    "15>2"
   ]
  },
  {
   "cell_type": "code",
   "execution_count": null,
   "id": "827a002d-e7a9-4f7f-b512-b690345a9e1c",
   "metadata": {},
   "outputs": [],
   "source": []
  }
 ],
 "metadata": {
  "kernelspec": {
   "display_name": "Python 3 (ipykernel)",
   "language": "python",
   "name": "python3"
  },
  "language_info": {
   "codemirror_mode": {
    "name": "ipython",
    "version": 3
   },
   "file_extension": ".py",
   "mimetype": "text/x-python",
   "name": "python",
   "nbconvert_exporter": "python",
   "pygments_lexer": "ipython3",
   "version": "3.11.7"
  }
 },
 "nbformat": 4,
 "nbformat_minor": 5
}
